{
  "nbformat": 4,
  "nbformat_minor": 0,
  "metadata": {
    "colab": {
      "provenance": [],
      "mount_file_id": "1F3Uz9DNeBZIQ9V77bKyjs6bRrSsCQu_B",
      "authorship_tag": "ABX9TyOkxKgYoisNs8riVj7tcICu",
      "include_colab_link": true
    },
    "kernelspec": {
      "name": "python3",
      "display_name": "Python 3"
    },
    "language_info": {
      "name": "python"
    }
  },
  "cells": [
    {
      "cell_type": "markdown",
      "metadata": {
        "id": "view-in-github",
        "colab_type": "text"
      },
      "source": [
        "<a href=\"https://colab.research.google.com/github/subhro-ds/langchain/blob/main/Langchain_chat_models.ipynb\" target=\"_parent\"><img src=\"https://colab.research.google.com/assets/colab-badge.svg\" alt=\"Open In Colab\"/></a>"
      ]
    },
    {
      "cell_type": "markdown",
      "source": [
        "## Langchain OpenAI Chat Models Basic\n",
        "\n",
        "1.   Set up langchain openai api\n",
        "2.   Basic calling of openai api and invoke\n",
        "3.   Basic conversation\n",
        "\n"
      ],
      "metadata": {
        "id": "CkNaNvCdbNS8"
      }
    },
    {
      "cell_type": "code",
      "source": [
        "%pip install langchain_openai --quiet\n",
        "%pip install langchain_google_firestore --quiet\n",
        "%pip install firebase-admin --quiet"
      ],
      "metadata": {
        "id": "FQfcq1G9Lgbx"
      },
      "execution_count": 1,
      "outputs": []
    },
    {
      "cell_type": "code",
      "execution_count": 4,
      "metadata": {
        "id": "DCYkQgzNJ74i"
      },
      "outputs": [],
      "source": [
        "from langchain_openai import ChatOpenAI\n",
        "import os\n",
        "from google.colab import userdata\n",
        "from langchain_core.messages import AIMessage, SystemMessage, HumanMessage\n",
        "\n",
        "os.environ['OPENAI_API_KEY'] = userdata.get('OPENAI_API_KEY')"
      ]
    },
    {
      "cell_type": "code",
      "source": [
        "llm = ChatOpenAI(temperature=0,max_retries=2,model=\"gpt-4o-mini\")\n",
        "messages = [\n",
        "    (\n",
        "        \"system\",\n",
        "        \"You are a helpful assistant that translates English to French. Translate the user sentence.\",\n",
        "    ),\n",
        "    (\"human\", \"I love programming.\"),\n",
        "]\n",
        "ai_msg = llm.invoke(messages)\n",
        "print(ai_msg.content)\n",
        "(ai_msg)"
      ],
      "metadata": {
        "colab": {
          "base_uri": "https://localhost:8080/"
        },
        "id": "KbcpsMVvLdbh",
        "outputId": "5eb0daca-75b0-479d-a6e4-30e5eefba0a3"
      },
      "execution_count": 5,
      "outputs": [
        {
          "output_type": "stream",
          "name": "stdout",
          "text": [
            "J'aime la programmation.\n"
          ]
        },
        {
          "output_type": "execute_result",
          "data": {
            "text/plain": [
              "AIMessage(content=\"J'aime la programmation.\", response_metadata={'token_usage': {'completion_tokens': 5, 'prompt_tokens': 31, 'total_tokens': 36}, 'model_name': 'gpt-4o-mini-2024-07-18', 'system_fingerprint': 'fp_8b761cb050', 'finish_reason': 'stop', 'logprobs': None}, id='run-849a6995-7ef3-449b-aabb-7d5dfa24187a-0', usage_metadata={'input_tokens': 31, 'output_tokens': 5, 'total_tokens': 36})"
            ]
          },
          "metadata": {},
          "execution_count": 5
        }
      ]
    },
    {
      "cell_type": "code",
      "source": [
        "# Messages are of 3 types - System Message, Human Message, AI Message\n",
        "# system message always come first and then human message\n",
        "# system message sets the context of the conversation\n",
        "# human message is the human chatting with the AI\n",
        "# AI message is the AI responding back to human message\n",
        "\n",
        "\n",
        "messages = [\n",
        "    SystemMessage(content=\"You are a helpful assistant that translates English to Spanish. Translate the user sentence.\"),\n",
        "    HumanMessage(content=\"I love programming.\")\n",
        "]\n",
        "result = llm.invoke(messages)\n",
        "print(result.content)"
      ],
      "metadata": {
        "colab": {
          "base_uri": "https://localhost:8080/"
        },
        "id": "m__ZRl0iaW6s",
        "outputId": "1c46a620-91c0-43a6-c7fc-ec321f225018"
      },
      "execution_count": 5,
      "outputs": [
        {
          "output_type": "stream",
          "name": "stdout",
          "text": [
            "Me encanta programar.\n"
          ]
        }
      ]
    },
    {
      "cell_type": "code",
      "source": [
        "messages = [\n",
        "    SystemMessage(content=\"You are a helpful assistant that translates English to Spanish. Translate the user sentence.\"),\n",
        "    HumanMessage(content=\"I love programming.\")\n",
        "]"
      ],
      "metadata": {
        "id": "BBcDG_21c2bI"
      },
      "execution_count": 6,
      "outputs": []
    },
    {
      "cell_type": "markdown",
      "source": [
        "## Langchain chat model conversation\n"
      ],
      "metadata": {
        "id": "C9SCozvhBMwI"
      }
    },
    {
      "cell_type": "code",
      "source": [
        "model = ChatOpenAI()"
      ],
      "metadata": {
        "id": "pq520dY5BUTG"
      },
      "execution_count": 7,
      "outputs": []
    },
    {
      "cell_type": "code",
      "source": [
        "chat_history=[]"
      ],
      "metadata": {
        "id": "NlKC-ACEBbi8"
      },
      "execution_count": 8,
      "outputs": []
    },
    {
      "cell_type": "code",
      "source": [
        "system_message = SystemMessage(content=\"You are a helpful AI Assistant.\")\n",
        "chat_history.append(system_message)\n",
        "\n",
        "while True:\n",
        "  query = input(\"You: \")\n",
        "  if query.lower() == \"exit\":\n",
        "    break\n",
        "  chat_history.append(HumanMessage(content=query))\n",
        "  result = model.invoke(chat_history)\n",
        "  response = result.content\n",
        "  chat_history.append(AIMessage(content=response))\n",
        "  print(f\"AI: {response}\")\n",
        "\n",
        "print(\"---- Message History ----\")\n",
        "print(chat_history)"
      ],
      "metadata": {
        "colab": {
          "base_uri": "https://localhost:8080/"
        },
        "id": "VNzLd7nwBfEO",
        "outputId": "c326c336-dfba-425a-f664-da3941591e27"
      },
      "execution_count": 9,
      "outputs": [
        {
          "output_type": "stream",
          "name": "stdout",
          "text": [
            "You: What is Samosa?\n",
            "AI: Samosa is a popular Indian snack that consists of a triangular or cone-shaped pastry filled with a savory mixture, typically including spiced potatoes, peas, and sometimes meat. It is usually deep-fried until crispy and is often served with chutney or sauce. Samosas are a delicious and popular street food in India and are enjoyed by people all over the world.\n",
            "You: Can you please tell me a simple recipe of it?\n",
            "AI: Sure! Here is a simple recipe for vegetarian samosas:\n",
            "\n",
            "Ingredients:\n",
            "- 2 large potatoes, boiled, peeled, and mashed\n",
            "- 1/2 cup green peas, boiled\n",
            "- 1 small onion, finely chopped\n",
            "- 2-3 green chilies, finely chopped\n",
            "- 1 tsp cumin seeds\n",
            "- 1 tsp garam masala\n",
            "- 1 tsp coriander powder\n",
            "- 1/2 tsp turmeric powder\n",
            "- Salt to taste\n",
            "- Oil for frying\n",
            "- Samosa wrappers or pastry sheets\n",
            "\n",
            "Instructions:\n",
            "1. Heat oil in a pan and add cumin seeds. Once they splutter, add chopped onions and green chilies. Saute until onions are translucent.\n",
            "2. Add turmeric powder, garam masala, coriander powder, and salt. Mix well.\n",
            "3. Add mashed potatoes and boiled peas. Mix everything together and cook for a few minutes. Remove from heat and let the mixture cool.\n",
            "4. Take a samosa wrapper or pastry sheet and cut it into halves to form two triangles.\n",
            "5. Take one triangle and fold one side to the center to form a cone. Seal the edges using a little water.\n",
            "6. Fill the cone with the potato-peas mixture and seal the open edge using water.\n",
            "7. Heat oil in a deep pan for frying. Once the oil is hot, fry the samosas in batches until they are golden brown and crispy.\n",
            "8. Remove the samosas from the oil and place them on a paper towel to drain off excess oil.\n",
            "9. Serve the samosas hot with chutney or sauce of your choice.\n",
            "\n",
            "Enjoy your homemade vegetarian samosas!\n",
            "You: exit\n",
            "---- Message History ----\n",
            "[SystemMessage(content='You are a helpful AI Assistant.'), HumanMessage(content='What is Samosa?'), AIMessage(content='Samosa is a popular Indian snack that consists of a triangular or cone-shaped pastry filled with a savory mixture, typically including spiced potatoes, peas, and sometimes meat. It is usually deep-fried until crispy and is often served with chutney or sauce. Samosas are a delicious and popular street food in India and are enjoyed by people all over the world.'), HumanMessage(content='Can you please tell me a simple recipe of it?'), AIMessage(content='Sure! Here is a simple recipe for vegetarian samosas:\\n\\nIngredients:\\n- 2 large potatoes, boiled, peeled, and mashed\\n- 1/2 cup green peas, boiled\\n- 1 small onion, finely chopped\\n- 2-3 green chilies, finely chopped\\n- 1 tsp cumin seeds\\n- 1 tsp garam masala\\n- 1 tsp coriander powder\\n- 1/2 tsp turmeric powder\\n- Salt to taste\\n- Oil for frying\\n- Samosa wrappers or pastry sheets\\n\\nInstructions:\\n1. Heat oil in a pan and add cumin seeds. Once they splutter, add chopped onions and green chilies. Saute until onions are translucent.\\n2. Add turmeric powder, garam masala, coriander powder, and salt. Mix well.\\n3. Add mashed potatoes and boiled peas. Mix everything together and cook for a few minutes. Remove from heat and let the mixture cool.\\n4. Take a samosa wrapper or pastry sheet and cut it into halves to form two triangles.\\n5. Take one triangle and fold one side to the center to form a cone. Seal the edges using a little water.\\n6. Fill the cone with the potato-peas mixture and seal the open edge using water.\\n7. Heat oil in a deep pan for frying. Once the oil is hot, fry the samosas in batches until they are golden brown and crispy.\\n8. Remove the samosas from the oil and place them on a paper towel to drain off excess oil.\\n9. Serve the samosas hot with chutney or sauce of your choice.\\n\\nEnjoy your homemade vegetarian samosas!')]\n"
          ]
        }
      ]
    },
    {
      "cell_type": "markdown",
      "source": [
        "## Saving the messages to the cloud!"
      ],
      "metadata": {
        "id": "vjZIw_WYZjLY"
      }
    },
    {
      "cell_type": "code",
      "source": [
        "from google.cloud import firestore\n",
        "from langchain_google_firestore import FirestoreChatMessageHistory\n",
        "from langchain_openai import ChatOpenAI"
      ],
      "metadata": {
        "id": "JRepmCcbCuXV"
      },
      "execution_count": 19,
      "outputs": []
    },
    {
      "cell_type": "code",
      "source": [
        "import firebase_admin\n",
        "from firebase_admin import credentials\n",
        "\n",
        "# Check if a Firebase app is already initialized\n",
        "if not firebase_admin._apps:\n",
        "    # cred = credentials.Certificate(\"path/to/serviceAccountKey.json\")\n",
        "    cred = credentials.Certificate(\"/content/drive/MyDrive/Colab Notebooks/Langchain/serviceAccountKey.json\")\n",
        "    firebase_admin.initialize_app(cred)\n",
        "else:\n",
        "    print(\"Firebase app already initialized.\")"
      ],
      "metadata": {
        "colab": {
          "base_uri": "https://localhost:8080/"
        },
        "id": "n4CxlscYpmWC",
        "outputId": "675cf9e6-9f63-4431-f07f-72c5684e80df"
      },
      "execution_count": 26,
      "outputs": [
        {
          "output_type": "stream",
          "name": "stdout",
          "text": [
            "Firebase app already initialized.\n"
          ]
        }
      ]
    },
    {
      "cell_type": "code",
      "source": [
        "# Authenticate with Google Cloud (Important for Colab)\n",
        "# This step is often required in Colab to grant access to Firestore\n",
        "from google.colab import auth\n",
        "auth.authenticate_user()"
      ],
      "metadata": {
        "id": "z9w-yO60xvJw"
      },
      "execution_count": 33,
      "outputs": []
    },
    {
      "cell_type": "code",
      "source": [
        "# Setup Firebase Firestore\n",
        "PROJECT_ID = \"langchain-chat-2164a\"\n",
        "SESSION_ID = \"user_session_1\"  # This could be a username or a unique ID\n",
        "COLLECTION_NAME = \"chat_history\"\n",
        "# Initialize Firestore Client\n",
        "print(\"Initializing Firestore Client...\")\n",
        "client = firestore.Client(project=PROJECT_ID)"
      ],
      "metadata": {
        "colab": {
          "base_uri": "https://localhost:8080/"
        },
        "id": "g70x49hJUKt3",
        "outputId": "bf42e4ad-ecb7-4367-fefb-ccb1f8259977"
      },
      "execution_count": 34,
      "outputs": [
        {
          "output_type": "stream",
          "name": "stdout",
          "text": [
            "Initializing Firestore Client...\n"
          ]
        }
      ]
    },
    {
      "cell_type": "code",
      "source": [
        "# Get a list of collections\n",
        "collections = [collection.id for collection in client.collections()]\n",
        "print(collections)"
      ],
      "metadata": {
        "colab": {
          "base_uri": "https://localhost:8080/"
        },
        "id": "WYEDrimnxAiv",
        "outputId": "d73f82a9-9d60-41d7-caf8-a48f811b3ecf"
      },
      "execution_count": 35,
      "outputs": [
        {
          "output_type": "stream",
          "name": "stdout",
          "text": [
            "['chat_history']\n"
          ]
        }
      ]
    },
    {
      "cell_type": "code",
      "source": [
        "# Initialize Firestore Chat Message History\n",
        "print(\"Initializing Firestore Chat Message History...\")\n",
        "chat_history = FirestoreChatMessageHistory(\n",
        "  session_id=SESSION_ID,\n",
        "  collection=COLLECTION_NAME,\n",
        "  client=client,\n",
        ")\n",
        "print(\"Chat History Initialized.\")\n",
        "print(\"Current Chat History:\", chat_history.messages)\n"
      ],
      "metadata": {
        "colab": {
          "base_uri": "https://localhost:8080/"
        },
        "id": "SY4kWGGeVB3u",
        "outputId": "e34c9eaf-696f-41ee-b56c-f8f7e481db8b"
      },
      "execution_count": 38,
      "outputs": [
        {
          "output_type": "stream",
          "name": "stdout",
          "text": [
            "Initializing Firestore Chat Message History...\n",
            "Chat History Initialized.\n",
            "Current Chat History: [HumanMessage(content='what is samosa?'), AIMessage(content='Samosa is a popular Indian snack that consists of a deep-fried or baked pastry filled with a savory filling, typically featuring spiced potatoes, peas, and sometimes minced meat or lentils. It is usually triangular in shape and is often served with chutney or sauce for dipping. Samosas are commonly enjoyed as a street food and appetizer in South Asian cuisine.'), HumanMessage(content='write 3 lines of peotry on samosa'), AIMessage(content=\"Crispy, golden, filled with delight,\\nSamosa's spicy bite, a savory sight.\\nA taste of India, wrapped up tight.\")]\n"
          ]
        }
      ]
    },
    {
      "cell_type": "code",
      "source": [
        "# Initialize Chat Model\n",
        "model = ChatOpenAI()\n",
        "\n",
        "print(\"Start chatting with the AI. Type 'exit' to quit.\")\n",
        "\n",
        "while True:\n",
        "  human_input = input(\"User: \")\n",
        "  if human_input.lower() == \"exit\":\n",
        "    break\n",
        "\n",
        "  chat_history.add_user_message(human_input)\n",
        "\n",
        "  ai_response = model.invoke(chat_history.messages)\n",
        "  chat_history.add_ai_message(ai_response.content)\n",
        "\n",
        "  print(f\"AI: {ai_response.content}\")"
      ],
      "metadata": {
        "colab": {
          "base_uri": "https://localhost:8080/"
        },
        "id": "Ub60RQevVCef",
        "outputId": "e21d9142-9b63-4364-c8a0-42727fce2646"
      },
      "execution_count": 39,
      "outputs": [
        {
          "name": "stdout",
          "output_type": "stream",
          "text": [
            "Start chatting with the AI. Type 'exit' to quit.\n",
            "User: what was the previous chat about?\n",
            "AI: The previous chat was about samosas, a popular Indian snack consisting of a deep-fried or baked pastry filled with a savory filling.\n",
            "User: what are french fries?\n",
            "AI: French fries, also known as fries, chips, or finger chips, are deep-fried potato strips that are typically served as a side dish or snack. They are commonly salted and may be served with ketchup, mayonnaise, or other condiments. French fries are a popular fast food item and are enjoyed in many countries around the world.\n",
            "User: which country was it originated?\n",
            "AI: French fries are believed to have originated in Belgium, not France as the name might suggest. They are said to have been created in the late 17th century in the region that is now known as Belgium, where villagers would fry small fish to eat, as the rivers would freeze over in the winter and they were unable to fish. When the rivers thawed, they started cutting potatoes into small strips and frying them as a substitute for fish. The term \"French fries\" likely originated in America, where they were first introduced by Thomas Jefferson after encountering them in France and bringing the recipe back to the United States.\n",
            "User: exit\n"
          ]
        }
      ]
    }
  ]
}