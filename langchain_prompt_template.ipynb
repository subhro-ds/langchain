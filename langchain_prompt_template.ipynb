{
  "nbformat": 4,
  "nbformat_minor": 0,
  "metadata": {
    "colab": {
      "provenance": [],
      "mount_file_id": "1cokTvERaIxz4wq_2s81dWyJwbkUNekr0",
      "authorship_tag": "ABX9TyNhzn4OJzZGj2jDjf531Z9F"
    },
    "kernelspec": {
      "name": "python3",
      "display_name": "Python 3"
    },
    "language_info": {
      "name": "python"
    }
  },
  "cells": [
    {
      "cell_type": "markdown",
      "source": [
        "## Required Libraries"
      ],
      "metadata": {
        "id": "1cIQURr9gukA"
      }
    },
    {
      "cell_type": "code",
      "source": [
        "%pip install langchain --quiet\n",
        "%pip install langchain_core --quiet\n",
        "%pip install langchain_openai --quiet\n",
        "%pip install langchain_google_firestore --quiet\n",
        "%pip install firebase-admin --quiet"
      ],
      "metadata": {
        "colab": {
          "base_uri": "https://localhost:8080/"
        },
        "id": "db6b0KH373ug",
        "outputId": "9dbd041b-bb48-4098-c3fd-fac291f74f57"
      },
      "execution_count": 1,
      "outputs": [
        {
          "output_type": "stream",
          "name": "stdout",
          "text": [
            "\u001b[2K     \u001b[90m━━━━━━━━━━━━━━━━━━━━━━━━━━━━━━━━━━━━━━━━\u001b[0m \u001b[32m987.7/987.7 kB\u001b[0m \u001b[31m4.4 MB/s\u001b[0m eta \u001b[36m0:00:00\u001b[0m\n",
            "\u001b[2K     \u001b[90m━━━━━━━━━━━━━━━━━━━━━━━━━━━━━━━━━━━━━━━━\u001b[0m \u001b[32m372.0/372.0 kB\u001b[0m \u001b[31m24.4 MB/s\u001b[0m eta \u001b[36m0:00:00\u001b[0m\n",
            "\u001b[2K     \u001b[90m━━━━━━━━━━━━━━━━━━━━━━━━━━━━━━━━━━━━━━━━\u001b[0m \u001b[32m135.0/135.0 kB\u001b[0m \u001b[31m12.8 MB/s\u001b[0m eta \u001b[36m0:00:00\u001b[0m\n",
            "\u001b[2K     \u001b[90m━━━━━━━━━━━━━━━━━━━━━━━━━━━━━━━━━━━━━━━━\u001b[0m \u001b[32m141.1/141.1 kB\u001b[0m \u001b[31m13.4 MB/s\u001b[0m eta \u001b[36m0:00:00\u001b[0m\n",
            "\u001b[2K     \u001b[90m━━━━━━━━━━━━━━━━━━━━━━━━━━━━━━━━━━━━━━━━\u001b[0m \u001b[32m46.7/46.7 kB\u001b[0m \u001b[31m758.2 kB/s\u001b[0m eta \u001b[36m0:00:00\u001b[0m\n",
            "\u001b[2K     \u001b[90m━━━━━━━━━━━━━━━━━━━━━━━━━━━━━━━━━━━━━━━━\u001b[0m \u001b[32m328.7/328.7 kB\u001b[0m \u001b[31m3.3 MB/s\u001b[0m eta \u001b[36m0:00:00\u001b[0m\n",
            "\u001b[2K     \u001b[90m━━━━━━━━━━━━━━━━━━━━━━━━━━━━━━━━━━━━━━━━\u001b[0m \u001b[32m1.1/1.1 MB\u001b[0m \u001b[31m16.1 MB/s\u001b[0m eta \u001b[36m0:00:00\u001b[0m\n",
            "\u001b[2K     \u001b[90m━━━━━━━━━━━━━━━━━━━━━━━━━━━━━━━━━━━━━━━━\u001b[0m \u001b[32m75.6/75.6 kB\u001b[0m \u001b[31m7.6 MB/s\u001b[0m eta \u001b[36m0:00:00\u001b[0m\n",
            "\u001b[2K     \u001b[90m━━━━━━━━━━━━━━━━━━━━━━━━━━━━━━━━━━━━━━━━\u001b[0m \u001b[32m77.9/77.9 kB\u001b[0m \u001b[31m7.6 MB/s\u001b[0m eta \u001b[36m0:00:00\u001b[0m\n",
            "\u001b[2K     \u001b[90m━━━━━━━━━━━━━━━━━━━━━━━━━━━━━━━━━━━━━━━━\u001b[0m \u001b[32m58.3/58.3 kB\u001b[0m \u001b[31m5.5 MB/s\u001b[0m eta \u001b[36m0:00:00\u001b[0m\n",
            "\u001b[2K     \u001b[90m━━━━━━━━━━━━━━━━━━━━━━━━━━━━━━━━━━━━━━━━\u001b[0m \u001b[32m2.2/2.2 MB\u001b[0m \u001b[31m10.4 MB/s\u001b[0m eta \u001b[36m0:00:00\u001b[0m\n",
            "\u001b[2K     \u001b[90m━━━━━━━━━━━━━━━━━━━━━━━━━━━━━━━━━━━━━━━━\u001b[0m \u001b[32m317.3/317.3 kB\u001b[0m \u001b[31m27.6 MB/s\u001b[0m eta \u001b[36m0:00:00\u001b[0m\n",
            "\u001b[2K     \u001b[90m━━━━━━━━━━━━━━━━━━━━━━━━━━━━━━━━━━━━━━━━\u001b[0m \u001b[32m59.2/59.2 kB\u001b[0m \u001b[31m5.4 MB/s\u001b[0m eta \u001b[36m0:00:00\u001b[0m\n",
            "\u001b[2K     \u001b[90m━━━━━━━━━━━━━━━━━━━━━━━━━━━━━━━━━━━━━━━━\u001b[0m \u001b[32m49.2/49.2 kB\u001b[0m \u001b[31m5.0 MB/s\u001b[0m eta \u001b[36m0:00:00\u001b[0m\n",
            "\u001b[?25h"
          ]
        }
      ]
    },
    {
      "cell_type": "code",
      "execution_count": 7,
      "metadata": {
        "id": "Ml7nmkpa7AMF"
      },
      "outputs": [],
      "source": [
        "from langchain.prompts import ChatPromptTemplate\n",
        "from langchain_core.messages import HumanMessage, AIMessage, SystemMessage\n",
        "from langchain_openai import ChatOpenAI\n",
        "import os\n",
        "from google.colab import userdata\n",
        "os.environ[\"OPENAI_API_KEY\"] = userdata.get('OPENAI_API_KEY')"
      ]
    },
    {
      "cell_type": "markdown",
      "source": [
        "## Simple Prompt Template"
      ],
      "metadata": {
        "id": "yFZaQ-aMgy78"
      }
    },
    {
      "cell_type": "code",
      "source": [
        "template = \"Generate {joke_number} jokes about {topic}.\"\n",
        "prompt_template = ChatPromptTemplate.from_template(template)\n",
        "\n",
        "print(\"--- From Prompt Template ---\")\n",
        "prompt = prompt_template.invoke({\n",
        "    \"joke_number\":3,\n",
        "    \"topic\": \"cats\"\n",
        "  })\n",
        "print(prompt)"
      ],
      "metadata": {
        "colab": {
          "base_uri": "https://localhost:8080/"
        },
        "id": "Jy_6G8M571kG",
        "outputId": "ef86a58d-8a95-4718-f3d1-6c75a1dc6f19"
      },
      "execution_count": 3,
      "outputs": [
        {
          "output_type": "stream",
          "name": "stdout",
          "text": [
            "--- From Prompt Template ---\n",
            "messages=[HumanMessage(content='Generate 3 jokes about cats.')]\n"
          ]
        }
      ]
    },
    {
      "cell_type": "markdown",
      "source": [
        "## Simple Prompt Template with System and Human Messages as tuples"
      ],
      "metadata": {
        "id": "3GDZslpUgtcU"
      }
    },
    {
      "cell_type": "code",
      "source": [
        "messages = [\n",
        "    (\"system\",\"You are a comedian who tells jokes about {topic}.\"),\n",
        "    (\"human\",\"Tell me {joke_number} jokes.\")\n",
        "]\n",
        "prompt_template = ChatPromptTemplate.from_messages(messages)\n",
        "print(\"--- From Prompt Template ---\")\n",
        "prompt = prompt_template.invoke({\n",
        "    \"joke_number\":3,\n",
        "    \"topic\": \"cats\"\n",
        "  })\n",
        "print(prompt)"
      ],
      "metadata": {
        "colab": {
          "base_uri": "https://localhost:8080/"
        },
        "id": "d8tVtjRa93Kw",
        "outputId": "bac3abbe-9c8e-4aa1-a40c-f20e3ac7c411"
      },
      "execution_count": 4,
      "outputs": [
        {
          "output_type": "stream",
          "name": "stdout",
          "text": [
            "--- From Prompt Template ---\n",
            "messages=[SystemMessage(content='You are a comedian who tells jokes about cats.'), HumanMessage(content='Tell me 3 jokes.')]\n"
          ]
        }
      ]
    },
    {
      "cell_type": "markdown",
      "source": [
        "## Setting the OPENAI model.\n",
        "using latest model - gpt-4o-mini"
      ],
      "metadata": {
        "id": "0I-hMV6KoSjE"
      }
    },
    {
      "cell_type": "code",
      "source": [
        "model = ChatOpenAI(temperature=0,max_retries=2,model=\"gpt-4o-mini\")"
      ],
      "metadata": {
        "id": "BrEWfwyxocU2"
      },
      "execution_count": 10,
      "outputs": []
    },
    {
      "cell_type": "code",
      "source": [
        "msg = model.invoke(prompt)\n",
        "print(\"--- From Model ---\")\n",
        "print(msg.content)"
      ],
      "metadata": {
        "colab": {
          "base_uri": "https://localhost:8080/"
        },
        "id": "7mOdtlFJjA2n",
        "outputId": "b5966a10-22d1-4c08-ff47-d0abb0d356e4"
      },
      "execution_count": 9,
      "outputs": [
        {
          "output_type": "stream",
          "name": "stdout",
          "text": [
            "--- From Model ---\n",
            "Sure, here are three cat-themed jokes for you:\n",
            "\n",
            "1. Why did the cat sit on the computer?\n",
            "   Because it wanted to keep an eye on the mouse!\n",
            "\n",
            "2. What do you call a pile of cats?\n",
            "   A meow-tain!\n",
            "\n",
            "3. Why was the cat so good at video games?\n",
            "   Because it had nine lives to practice!\n"
          ]
        }
      ]
    },
    {
      "cell_type": "code",
      "source": [
        "template = \"\"\" You are a helpful assistant.\n",
        "Human: Tell me a {adjective} short story about a {animal}.\n",
        "Assistant:\"\"\"\n",
        "prompt_template = ChatPromptTemplate.from_template(template)\n",
        "print(\"--- From Prompt Template ---\")\n",
        "prompt = prompt_template.invoke({\n",
        "    \"adjective\": \"funny\",\n",
        "    \"animal\": \"panda\"\n",
        "  })\n",
        "print(prompt)\n",
        "msg = model.invoke(prompt)\n",
        "print(\"--- From Model ---\")\n",
        "(msg.content)"
      ],
      "metadata": {
        "colab": {
          "base_uri": "https://localhost:8080/"
        },
        "id": "XDJmDtJXnZaT",
        "outputId": "7cc45945-11ca-4757-e47f-8a1ee02b11da"
      },
      "execution_count": 11,
      "outputs": [
        {
          "output_type": "stream",
          "name": "stdout",
          "text": [
            "--- From Prompt Template ---\n",
            "messages=[HumanMessage(content=' You are a helpful assistant.\\nHuman: Tell me a funny short story about a panda.\\nAssistant:')]\n",
            "--- From Model ---\n",
            "Once upon a time in a lush bamboo forest, there lived a panda named Pippin. Pippin was not your ordinary panda; he had a peculiar obsession with trying to fly. Every day, he would watch the birds soar through the sky and dream of joining them.\n",
            "\n",
            "One sunny afternoon, Pippin decided it was time to take action. He gathered all the bamboo he could find and built himself a pair of wings. They were quite the sight—clunky and oversized, but Pippin was determined. He climbed to the top of a small hill, flapped his bamboo wings, and leaped off.\n",
            "\n",
            "Instead of soaring through the air, Pippin plummeted straight into a patch of soft grass. Dazed but undeterred, he tried again. This time, he added a few leaves for \"aerodynamics.\" He climbed a little higher and jumped again, only to land in a mud puddle, splattering mud everywhere.\n",
            "\n",
            "The other animals in the forest gathered around, chuckling at Pippin's antics. A wise old owl perched nearby hooted, \"Pippin, my friend, you’re not meant to fly! You’re a panda, not a bird!\"\n",
            "\n",
            "Pippin, covered in mud and bamboo, looked up and grinned. \"Maybe not, but I can sure make a splash!\" \n",
            "\n",
            "From that day on, Pippin became the forest's unofficial entertainer. Instead of flying, he put on hilarious shows, leaping into mud puddles and rolling around, making everyone laugh. And while he never did fly, he discovered that bringing joy to his friends was the best adventure of all. \n",
            "\n",
            "And so, Pippin the panda became a legend—not for his flying, but for his ability to make everyone smile.\n"
          ]
        }
      ]
    }
  ]
}