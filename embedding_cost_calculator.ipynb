{
  "nbformat": 4,
  "nbformat_minor": 0,
  "metadata": {
    "colab": {
      "provenance": [],
      "mount_file_id": "1fUmG-poNcCC25ShmkO-k_AHHN868i4iR",
      "authorship_tag": "ABX9TyOYLr1Ta/rmrryypEbBoK+R"
    },
    "kernelspec": {
      "name": "python3",
      "display_name": "Python 3"
    },
    "language_info": {
      "name": "python"
    }
  },
  "cells": [
    {
      "cell_type": "code",
      "source": [
        "%pip install tiktoken --quiet"
      ],
      "metadata": {
        "colab": {
          "base_uri": "https://localhost:8080/"
        },
        "id": "6HvhRr-HqV2c",
        "outputId": "bba36a33-8f98-4722-cabe-e9be7bca1534"
      },
      "execution_count": null,
      "outputs": [
        {
          "output_type": "stream",
          "name": "stdout",
          "text": [
            "\u001b[2K     \u001b[90m━━━━━━━━━━━━━━━━━━━━━━━━━━━━━━━━━━━━━━━━\u001b[0m \u001b[32m1.1/1.1 MB\u001b[0m \u001b[31m4.8 MB/s\u001b[0m eta \u001b[36m0:00:00\u001b[0m\n",
            "\u001b[?25h"
          ]
        }
      ]
    },
    {
      "cell_type": "code",
      "execution_count": null,
      "metadata": {
        "colab": {
          "base_uri": "https://localhost:8080/"
        },
        "id": "AdUCWPOyqLiL",
        "outputId": "719e0026-82a2-4e5c-c0a4-94cf0ee635af"
      },
      "outputs": [
        {
          "output_type": "stream",
          "name": "stdout",
          "text": [
            "Total number of tokens: 1558216\n",
            "Estimated cost for processing: $0.031164\n"
          ]
        }
      ],
      "source": [
        "import os\n",
        "\n",
        "import tiktoken\n",
        "\n",
        "# Define the file path for the document\n",
        "# file_path = os.path.join(os.path.dirname(__file__), \"..\", \"books\", \"odyssey.txt\")\n",
        "current_dir = '/content/drive/MyDrive/Colab Notebooks/Langchain'\n",
        "file_path = os.path.join(current_dir, 'books',\"harry_potter.txt\")\n",
        "\n",
        "# Check if the file exists\n",
        "if not os.path.exists(file_path):\n",
        "    raise FileNotFoundError(\n",
        "        f\"The file {file_path} does not exist. Please check the path.\"\n",
        "    )\n",
        "\n",
        "# Read the content of the file\n",
        "with open(file_path, \"r\", encoding=\"utf-8\") as file:\n",
        "    text = file.read()\n",
        "\n",
        "tokenizer = tiktoken.get_encoding(\n",
        "    \"cl100k_base\"\n",
        ")  # Use the appropriate encoding for the model\n",
        "\n",
        "# Tokenize the text and count the tokens\n",
        "tokens = tokenizer.encode(text)\n",
        "total_tokens = len(tokens)\n",
        "\n",
        "# Calculate the cost based on OpenAI's pricing\n",
        "cost_per_million_tokens = 0.02  # $0.02 per million tokens\n",
        "cost = (total_tokens / 1_000_000) * cost_per_million_tokens\n",
        "\n",
        "# Print the results\n",
        "print(f\"Total number of tokens: {total_tokens}\")\n",
        "print(f\"Estimated cost for processing: ${cost:.6f}\")"
      ]
    }
  ]
}